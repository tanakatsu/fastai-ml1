{
 "cells": [
  {
   "cell_type": "markdown",
   "metadata": {},
   "source": [
    "# Deep learning for Bulldozers"
   ]
  },
  {
   "cell_type": "code",
   "execution_count": 1,
   "metadata": {},
   "outputs": [],
   "source": [
    "%load_ext autoreload\n",
    "%autoreload 2"
   ]
  },
  {
   "cell_type": "code",
   "execution_count": 2,
   "metadata": {},
   "outputs": [],
   "source": [
    "%matplotlib inline\n",
    "\n",
    "from fastai.imports import *\n",
    "from fastai.torch_imports import *\n",
    "from fastai.dataset import *\n",
    "from fastai.learner import *\n",
    "from fastai.structured import *\n",
    "from fastai.column_data import *"
   ]
  },
  {
   "cell_type": "markdown",
   "metadata": {},
   "source": [
    "# Load in our data from last lesson"
   ]
  },
  {
   "cell_type": "code",
   "execution_count": 3,
   "metadata": {},
   "outputs": [],
   "source": [
    "dep = 'SalePrice' # dependency variable\n",
    "PATH = \"data/bulldozers/\"\n",
    "#df_raw = pd.read_feather('tmp/raw')\n",
    "df_raw = pd.read_feather('tmp/bulldozers-raw')\n",
    "keep_cols = list(np.load('tmp/keep_cols.npy'))"
   ]
  },
  {
   "cell_type": "code",
   "execution_count": 4,
   "metadata": {},
   "outputs": [],
   "source": [
    "df_raw.loc[df_raw.YearMade<1950, 'YearMade'] = 1950 # set YearMade to 1950 when YearMade is smaller than 1950\n",
    "df_raw['age'] = df_raw.saleYear-df_raw.YearMade\n",
    "df_raw = df_raw[keep_cols+['age', dep]].copy()\n",
    "df_indep = df_raw.drop(dep,axis=1)\n",
    "\n",
    "n_valid = 12000\n",
    "n_trn = len(df_raw)-n_valid"
   ]
  },
  {
   "cell_type": "code",
   "execution_count": 5,
   "metadata": {},
   "outputs": [
    {
     "data": {
      "text/plain": [
       "'YearMade Coupler_System ProductSize fiProductClassDesc ModelID saleElapsed Hydraulics_Flow fiSecondaryDesc Enclosure fiModelDesc fiModelDescriptor Hydraulics ProductGroup ProductGroupDesc Tire_Size state saleDay saleDayofyear Track_Type Drive_System age'"
      ]
     },
     "execution_count": 5,
     "metadata": {},
     "output_type": "execute_result"
    }
   ],
   "source": [
    "cat_flds = [n for n in df_indep.columns if df_raw[n].nunique()<n_trn/50]\n",
    "' '.join(cat_flds)"
   ]
  },
  {
   "cell_type": "code",
   "execution_count": 6,
   "metadata": {},
   "outputs": [
    {
     "data": {
      "text/plain": [
       "[]"
      ]
     },
     "execution_count": 6,
     "metadata": {},
     "output_type": "execute_result"
    }
   ],
   "source": [
    "# Remove ['saleElapsed', 'saleDayofyear', 'saleDay', 'age', 'YearMade'] from cat_flds\n",
    "for o in ['saleElapsed', 'saleDayofyear', 'saleDay', 'age', 'YearMade']: cat_flds.remove(o) \n",
    "[n for n in df_indep.drop(cat_flds,axis=1).columns if not is_numeric_dtype(df_raw[n])]"
   ]
  },
  {
   "cell_type": "code",
   "execution_count": 7,
   "metadata": {},
   "outputs": [
    {
     "data": {
      "text/plain": [
       "'YearMade saleElapsed SalesID MachineID saleDay saleDayofyear age'"
      ]
     },
     "execution_count": 7,
     "metadata": {},
     "output_type": "execute_result"
    }
   ],
   "source": [
    "for n in cat_flds: df_raw[n] = df_raw[n].astype('category').cat.as_ordered() # Set 'category' type\n",
    "\n",
    "cont_flds = [n for n in df_indep.columns if n not in cat_flds] # other fields are cont_flds\n",
    "' '.join(cont_flds)"
   ]
  },
  {
   "cell_type": "code",
   "execution_count": 9,
   "metadata": {},
   "outputs": [],
   "source": [
    "df_raw = df_raw[cat_flds+cont_flds+[dep]]\n",
    "# df, y, mapper = proc_df(df_raw, 'SalePrice', do_scale=True)\n",
    "df, y, _nas, mapper = proc_df(df_raw, 'SalePrice', do_scale=True)\n",
    "\n",
    "val_idx = list(range(n_trn, len(df)))"
   ]
  },
  {
   "cell_type": "code",
   "execution_count": 10,
   "metadata": {},
   "outputs": [],
   "source": [
    "md = ColumnarModelData.from_data_frame(PATH, val_idx, df, y, cat_flds=cat_flds, bs=64)"
   ]
  },
  {
   "cell_type": "code",
   "execution_count": 12,
   "metadata": {},
   "outputs": [
    {
     "data": {
      "text/html": [
       "<div>\n",
       "<style scoped>\n",
       "    .dataframe tbody tr th:only-of-type {\n",
       "        vertical-align: middle;\n",
       "    }\n",
       "\n",
       "    .dataframe tbody tr th {\n",
       "        vertical-align: top;\n",
       "    }\n",
       "\n",
       "    .dataframe thead th {\n",
       "        text-align: right;\n",
       "    }\n",
       "</style>\n",
       "<table border=\"1\" class=\"dataframe\">\n",
       "  <thead>\n",
       "    <tr style=\"text-align: right;\">\n",
       "      <th></th>\n",
       "      <th>Coupler_System</th>\n",
       "      <th>ProductSize</th>\n",
       "      <th>fiProductClassDesc</th>\n",
       "      <th>ModelID</th>\n",
       "      <th>Hydraulics_Flow</th>\n",
       "      <th>fiSecondaryDesc</th>\n",
       "      <th>Enclosure</th>\n",
       "      <th>fiModelDesc</th>\n",
       "      <th>fiModelDescriptor</th>\n",
       "      <th>Hydraulics</th>\n",
       "      <th>...</th>\n",
       "      <th>state</th>\n",
       "      <th>Track_Type</th>\n",
       "      <th>Drive_System</th>\n",
       "      <th>YearMade</th>\n",
       "      <th>saleElapsed</th>\n",
       "      <th>SalesID</th>\n",
       "      <th>MachineID</th>\n",
       "      <th>saleDay</th>\n",
       "      <th>saleDayofyear</th>\n",
       "      <th>age</th>\n",
       "    </tr>\n",
       "  </thead>\n",
       "  <tbody>\n",
       "    <tr>\n",
       "      <th>0</th>\n",
       "      <td>0</td>\n",
       "      <td>0</td>\n",
       "      <td>59</td>\n",
       "      <td>644</td>\n",
       "      <td>0</td>\n",
       "      <td>41</td>\n",
       "      <td>3</td>\n",
       "      <td>950</td>\n",
       "      <td>0</td>\n",
       "      <td>1</td>\n",
       "      <td>...</td>\n",
       "      <td>1</td>\n",
       "      <td>0</td>\n",
       "      <td>0</td>\n",
       "      <td>0.913196</td>\n",
       "      <td>0.397377</td>\n",
       "      <td>-0.858580</td>\n",
       "      <td>-0.496185</td>\n",
       "      <td>-0.013101</td>\n",
       "      <td>1.352092</td>\n",
       "      <td>-0.828814</td>\n",
       "    </tr>\n",
       "    <tr>\n",
       "      <th>1</th>\n",
       "      <td>0</td>\n",
       "      <td>4</td>\n",
       "      <td>62</td>\n",
       "      <td>11</td>\n",
       "      <td>0</td>\n",
       "      <td>55</td>\n",
       "      <td>3</td>\n",
       "      <td>1725</td>\n",
       "      <td>0</td>\n",
       "      <td>1</td>\n",
       "      <td>...</td>\n",
       "      <td>33</td>\n",
       "      <td>0</td>\n",
       "      <td>0</td>\n",
       "      <td>0.405756</td>\n",
       "      <td>-0.061496</td>\n",
       "      <td>-0.858578</td>\n",
       "      <td>-2.494936</td>\n",
       "      <td>1.173518</td>\n",
       "      <td>-0.907472</td>\n",
       "      <td>-0.430749</td>\n",
       "    </tr>\n",
       "    <tr>\n",
       "      <th>2</th>\n",
       "      <td>1</td>\n",
       "      <td>0</td>\n",
       "      <td>39</td>\n",
       "      <td>1542</td>\n",
       "      <td>3</td>\n",
       "      <td>0</td>\n",
       "      <td>6</td>\n",
       "      <td>331</td>\n",
       "      <td>0</td>\n",
       "      <td>4</td>\n",
       "      <td>...</td>\n",
       "      <td>32</td>\n",
       "      <td>0</td>\n",
       "      <td>0</td>\n",
       "      <td>0.722906</td>\n",
       "      <td>-0.075286</td>\n",
       "      <td>-0.858577</td>\n",
       "      <td>-1.775759</td>\n",
       "      <td>1.173518</td>\n",
       "      <td>-1.187503</td>\n",
       "      <td>-0.762470</td>\n",
       "    </tr>\n",
       "    <tr>\n",
       "      <th>3</th>\n",
       "      <td>0</td>\n",
       "      <td>6</td>\n",
       "      <td>8</td>\n",
       "      <td>110</td>\n",
       "      <td>0</td>\n",
       "      <td>0</td>\n",
       "      <td>3</td>\n",
       "      <td>3674</td>\n",
       "      <td>0</td>\n",
       "      <td>1</td>\n",
       "      <td>...</td>\n",
       "      <td>44</td>\n",
       "      <td>0</td>\n",
       "      <td>0</td>\n",
       "      <td>0.722906</td>\n",
       "      <td>1.179600</td>\n",
       "      <td>-0.858574</td>\n",
       "      <td>-0.434096</td>\n",
       "      <td>0.342885</td>\n",
       "      <td>-0.395690</td>\n",
       "      <td>-0.298060</td>\n",
       "    </tr>\n",
       "    <tr>\n",
       "      <th>4</th>\n",
       "      <td>1</td>\n",
       "      <td>0</td>\n",
       "      <td>40</td>\n",
       "      <td>3540</td>\n",
       "      <td>3</td>\n",
       "      <td>0</td>\n",
       "      <td>1</td>\n",
       "      <td>4208</td>\n",
       "      <td>0</td>\n",
       "      <td>4</td>\n",
       "      <td>...</td>\n",
       "      <td>32</td>\n",
       "      <td>0</td>\n",
       "      <td>0</td>\n",
       "      <td>1.103486</td>\n",
       "      <td>0.863382</td>\n",
       "      <td>-0.858572</td>\n",
       "      <td>-0.364020</td>\n",
       "      <td>0.817532</td>\n",
       "      <td>0.231967</td>\n",
       "      <td>-0.828814</td>\n",
       "    </tr>\n",
       "  </tbody>\n",
       "</table>\n",
       "<p>5 rows × 23 columns</p>\n",
       "</div>"
      ],
      "text/plain": [
       "   Coupler_System  ProductSize  fiProductClassDesc  ModelID  Hydraulics_Flow  \\\n",
       "0               0            0                  59      644                0   \n",
       "1               0            4                  62       11                0   \n",
       "2               1            0                  39     1542                3   \n",
       "3               0            6                   8      110                0   \n",
       "4               1            0                  40     3540                3   \n",
       "\n",
       "   fiSecondaryDesc  Enclosure  fiModelDesc  fiModelDescriptor  Hydraulics  \\\n",
       "0               41          3          950                  0           1   \n",
       "1               55          3         1725                  0           1   \n",
       "2                0          6          331                  0           4   \n",
       "3                0          3         3674                  0           1   \n",
       "4                0          1         4208                  0           4   \n",
       "\n",
       "     ...     state  Track_Type  Drive_System  YearMade  saleElapsed   SalesID  \\\n",
       "0    ...         1           0             0  0.913196     0.397377 -0.858580   \n",
       "1    ...        33           0             0  0.405756    -0.061496 -0.858578   \n",
       "2    ...        32           0             0  0.722906    -0.075286 -0.858577   \n",
       "3    ...        44           0             0  0.722906     1.179600 -0.858574   \n",
       "4    ...        32           0             0  1.103486     0.863382 -0.858572   \n",
       "\n",
       "   MachineID   saleDay  saleDayofyear       age  \n",
       "0  -0.496185 -0.013101       1.352092 -0.828814  \n",
       "1  -2.494936  1.173518      -0.907472 -0.430749  \n",
       "2  -1.775759  1.173518      -1.187503 -0.762470  \n",
       "3  -0.434096  0.342885      -0.395690 -0.298060  \n",
       "4  -0.364020  0.817532       0.231967 -0.828814  \n",
       "\n",
       "[5 rows x 23 columns]"
      ]
     },
     "execution_count": 12,
     "metadata": {},
     "output_type": "execute_result"
    }
   ],
   "source": [
    "df.head()"
   ]
  },
  {
   "cell_type": "markdown",
   "metadata": {
    "collapsed": true
   },
   "source": [
    "# Model"
   ]
  },
  {
   "cell_type": "code",
   "execution_count": 13,
   "metadata": {},
   "outputs": [],
   "source": [
    "def rmse(x,y): return math.sqrt(((x-y)**2).mean())"
   ]
  },
  {
   "cell_type": "code",
   "execution_count": 14,
   "metadata": {},
   "outputs": [
    {
     "data": {
      "text/plain": [
       "{'Coupler_System': 3,\n",
       " 'Drive_System': 5,\n",
       " 'Enclosure': 7,\n",
       " 'Hydraulics': 13,\n",
       " 'Hydraulics_Flow': 4,\n",
       " 'ModelID': 5219,\n",
       " 'ProductGroup': 7,\n",
       " 'ProductGroupDesc': 7,\n",
       " 'ProductSize': 7,\n",
       " 'Tire_Size': 18,\n",
       " 'Track_Type': 3,\n",
       " 'fiModelDesc': 5000,\n",
       " 'fiModelDescriptor': 140,\n",
       " 'fiProductClassDesc': 75,\n",
       " 'fiSecondaryDesc': 176,\n",
       " 'state': 54}"
      ]
     },
     "execution_count": 14,
     "metadata": {},
     "output_type": "execute_result"
    }
   ],
   "source": [
    "# Calculate embedding size\n",
    "emb_c = {n: len(c.cat.categories)+1 for n,c in df_raw[cat_flds].items()}\n",
    "emb_c"
   ]
  },
  {
   "cell_type": "code",
   "execution_count": 15,
   "metadata": {},
   "outputs": [],
   "source": [
    "emb_szs = [(c, min(50, (c+1)//2)) for _,c in emb_c.items()]\n",
    "metrics=[rmse]"
   ]
  },
  {
   "cell_type": "code",
   "execution_count": 16,
   "metadata": {},
   "outputs": [],
   "source": [
    "y_range=(0,np.max(y)*1.2)"
   ]
  },
  {
   "cell_type": "code",
   "execution_count": 17,
   "metadata": {},
   "outputs": [],
   "source": [
    "m = md.get_learner(emb_szs, len(cont_flds), 0.05, 1, [500,250], [0.5,0.05],\n",
    "                   y_range=y_range, use_bn=True)"
   ]
  },
  {
   "cell_type": "code",
   "execution_count": 18,
   "metadata": {},
   "outputs": [
    {
     "data": {
      "text/plain": [
       "MixedInputModel(\n",
       "  (embs): ModuleList(\n",
       "    (0): Embedding(3, 2)\n",
       "    (1): Embedding(7, 4)\n",
       "    (2): Embedding(75, 38)\n",
       "    (3): Embedding(5219, 50)\n",
       "    (4): Embedding(4, 2)\n",
       "    (5): Embedding(176, 50)\n",
       "    (6): Embedding(7, 4)\n",
       "    (7): Embedding(5000, 50)\n",
       "    (8): Embedding(140, 50)\n",
       "    (9): Embedding(13, 7)\n",
       "    (10): Embedding(7, 4)\n",
       "    (11): Embedding(7, 4)\n",
       "    (12): Embedding(18, 9)\n",
       "    (13): Embedding(54, 27)\n",
       "    (14): Embedding(3, 2)\n",
       "    (15): Embedding(5, 3)\n",
       "  )\n",
       "  (lins): ModuleList(\n",
       "    (0): Linear(in_features=313, out_features=500, bias=True)\n",
       "    (1): Linear(in_features=500, out_features=250, bias=True)\n",
       "  )\n",
       "  (bns): ModuleList(\n",
       "    (0): BatchNorm1d(500, eps=1e-05, momentum=0.1, affine=True)\n",
       "    (1): BatchNorm1d(250, eps=1e-05, momentum=0.1, affine=True)\n",
       "  )\n",
       "  (outp): Linear(in_features=250, out_features=1, bias=True)\n",
       "  (emb_drop): Dropout(p=0.05)\n",
       "  (drops): ModuleList(\n",
       "    (0): Dropout(p=0.5)\n",
       "    (1): Dropout(p=0.05)\n",
       "  )\n",
       "  (bn): BatchNorm1d(7, eps=1e-05, momentum=0.1, affine=True)\n",
       ")"
      ]
     },
     "execution_count": 18,
     "metadata": {},
     "output_type": "execute_result"
    }
   ],
   "source": [
    "m"
   ]
  },
  {
   "cell_type": "code",
   "execution_count": 19,
   "metadata": {},
   "outputs": [
    {
     "data": {
      "application/vnd.jupyter.widget-view+json": {
       "model_id": "333d4fa8415644b7821eac950b411f10",
       "version_major": 2,
       "version_minor": 0
      },
      "text/html": [
       "<p>Failed to display Jupyter Widget of type <code>HBox</code>.</p>\n",
       "<p>\n",
       "  If you're reading this message in the Jupyter Notebook or JupyterLab Notebook, it may mean\n",
       "  that the widgets JavaScript is still loading. If this message persists, it\n",
       "  likely means that the widgets JavaScript library is either not installed or\n",
       "  not enabled. See the <a href=\"https://ipywidgets.readthedocs.io/en/stable/user_install.html\">Jupyter\n",
       "  Widgets Documentation</a> for setup instructions.\n",
       "</p>\n",
       "<p>\n",
       "  If you're reading this message in another frontend (for example, a static\n",
       "  rendering on GitHub or <a href=\"https://nbviewer.jupyter.org/\">NBViewer</a>),\n",
       "  it may mean that your frontend doesn't currently support widgets.\n",
       "</p>\n"
      ],
      "text/plain": [
       "HBox(children=(IntProgress(value=0, description='Epoch', max=1), HTML(value='')))"
      ]
     },
     "metadata": {},
     "output_type": "display_data"
    },
    {
     "name": "stdout",
     "output_type": "stream",
     "text": [
      " 60%|██████    | 3667/6081 [01:50<01:12, 33.33it/s, loss=0.364] "
     ]
    }
   ],
   "source": [
    "m.lr_find()"
   ]
  },
  {
   "cell_type": "code",
   "execution_count": 20,
   "metadata": {},
   "outputs": [
    {
     "data": {
      "image/png": "[encoded data removed]",
      "text/plain": [
       "<Figure size 432x288 with 1 Axes>"
      ]
     },
     "metadata": {},
     "output_type": "display_data"
    }
   ],
   "source": [
    "m.sched.plot(1300)"
   ]
  },
  {
   "cell_type": "code",
   "execution_count": 21,
   "metadata": {},
   "outputs": [],
   "source": [
    "lr=1e-3; wd=1e-7"
   ]
  },
  {
   "cell_type": "code",
   "execution_count": 22,
   "metadata": {},
   "outputs": [
    {
     "data": {
      "application/vnd.jupyter.widget-view+json": {
       "model_id": "2f1eb0c5d00043e5ae5792541d32c3f8",
       "version_major": 2,
       "version_minor": 0
      },
      "text/html": [
       "<p>Failed to display Jupyter Widget of type <code>HBox</code>.</p>\n",
       "<p>\n",
       "  If you're reading this message in the Jupyter Notebook or JupyterLab Notebook, it may mean\n",
       "  that the widgets JavaScript is still loading. If this message persists, it\n",
       "  likely means that the widgets JavaScript library is either not installed or\n",
       "  not enabled. See the <a href=\"https://ipywidgets.readthedocs.io/en/stable/user_install.html\">Jupyter\n",
       "  Widgets Documentation</a> for setup instructions.\n",
       "</p>\n",
       "<p>\n",
       "  If you're reading this message in another frontend (for example, a static\n",
       "  rendering on GitHub or <a href=\"https://nbviewer.jupyter.org/\">NBViewer</a>),\n",
       "  it may mean that your frontend doesn't currently support widgets.\n",
       "</p>\n"
      ],
      "text/plain": [
       "HBox(children=(IntProgress(value=0, description='Epoch', max=3), HTML(value='')))"
      ]
     },
     "metadata": {},
     "output_type": "display_data"
    },
    {
     "name": "stdout",
     "output_type": "stream",
     "text": [
      "  2%|▏         | 104/6081 [00:02<02:15, 44.24it/s, loss=9.26]  \n",
      "  2%|▏         | 114/6081 [00:02<02:14, 44.50it/s, loss=9.08]"
     ]
    },
    {
     "name": "stderr",
     "output_type": "stream",
     "text": [
      "Exception in thread Thread-4:\n",
      "Traceback (most recent call last):\n",
      "  File \"/Users/tsuyoshi/anaconda3/envs/fastai-cpu/lib/python3.6/threading.py\", line 916, in _bootstrap_inner\n",
      "    self.run()\n",
      "  File \"/Users/tsuyoshi/anaconda3/envs/fastai-cpu/lib/python3.6/site-packages/tqdm/_tqdm.py\", line 144, in run\n",
      "    for instance in self.tqdm_cls._instances:\n",
      "  File \"/Users/tsuyoshi/anaconda3/envs/fastai-cpu/lib/python3.6/_weakrefset.py\", line 60, in __iter__\n",
      "    for itemref in self.data:\n",
      "RuntimeError: Set changed size during iteration\n",
      "\n"
     ]
    },
    {
     "name": "stdout",
     "output_type": "stream",
     "text": [
      "epoch      trn_loss   val_loss                                  \n",
      "    0      0.062862   0.112279  \n",
      "    1      0.059326   0.073036                                  \n",
      "    2      0.053488   0.084489                                  \n",
      "\n"
     ]
    },
    {
     "data": {
      "text/plain": [
       "[0.08448918]"
      ]
     },
     "execution_count": 22,
     "metadata": {},
     "output_type": "execute_result"
    }
   ],
   "source": [
    "m.fit(lr, 2, wd, cycle_len=1, cycle_mult=2)"
   ]
  },
  {
   "cell_type": "code",
   "execution_count": 23,
   "metadata": {},
   "outputs": [
    {
     "data": {
      "application/vnd.jupyter.widget-view+json": {
       "model_id": "b4a0b6f6d25e43368f131d55e9b5548f",
       "version_major": 2,
       "version_minor": 0
      },
      "text/html": [
       "<p>Failed to display Jupyter Widget of type <code>HBox</code>.</p>\n",
       "<p>\n",
       "  If you're reading this message in the Jupyter Notebook or JupyterLab Notebook, it may mean\n",
       "  that the widgets JavaScript is still loading. If this message persists, it\n",
       "  likely means that the widgets JavaScript library is either not installed or\n",
       "  not enabled. See the <a href=\"https://ipywidgets.readthedocs.io/en/stable/user_install.html\">Jupyter\n",
       "  Widgets Documentation</a> for setup instructions.\n",
       "</p>\n",
       "<p>\n",
       "  If you're reading this message in another frontend (for example, a static\n",
       "  rendering on GitHub or <a href=\"https://nbviewer.jupyter.org/\">NBViewer</a>),\n",
       "  it may mean that your frontend doesn't currently support widgets.\n",
       "</p>\n"
      ],
      "text/plain": [
       "HBox(children=(IntProgress(value=0, description='Epoch', max=6), HTML(value='')))"
      ]
     },
     "metadata": {},
     "output_type": "display_data"
    },
    {
     "name": "stdout",
     "output_type": "stream",
     "text": [
      "epoch      trn_loss   val_loss                                  \n",
      "    0      0.056134   0.100128  \n",
      "    1      0.050738   0.0861                                    \n",
      "    2      0.05546    0.064745                                  \n",
      "    3      0.050806   0.061799                                  \n",
      "    4      0.046855   0.068507                                  \n",
      "    5      0.043143   0.070691                                  \n",
      "\n"
     ]
    },
    {
     "data": {
      "text/plain": [
       "[0.07069147]"
      ]
     },
     "execution_count": 23,
     "metadata": {},
     "output_type": "execute_result"
    }
   ],
   "source": [
    "m.fit(lr, 2, wd, cycle_len=2, cycle_mult=2)"
   ]
  },
  {
   "cell_type": "code",
   "execution_count": 24,
   "metadata": {},
   "outputs": [
    {
     "data": {
      "text/plain": [
       "0.22068076490713912"
      ]
     },
     "execution_count": 24,
     "metadata": {},
     "output_type": "execute_result"
    }
   ],
   "source": [
    "math.sqrt(0.0487)"
   ]
  }
 ],
 "metadata": {
  "kernelspec": {
   "display_name": "Python3 (fastai_cpu)",
   "language": "python",
   "name": "python3"
  },
  "language_info": {
   "codemirror_mode": {
    "name": "ipython",
    "version": 3
   },
   "file_extension": ".py",
   "mimetype": "text/x-python",
   "name": "python",
   "nbconvert_exporter": "python",
   "pygments_lexer": "ipython3",
   "version": "3.6.4"
  },
  "toc": {
   "colors": {
    "hover_highlight": "#DAA520",
    "navigate_num": "#000000",
    "navigate_text": "#333333",
    "running_highlight": "#FF0000",
    "selected_highlight": "#FFD700",
    "sidebar_border": "#EEEEEE",
    "wrapper_background": "#FFFFFF"
   },
   "moveMenuLeft": true,
   "nav_menu": {
    "height": "512px",
    "width": "252px"
   },
   "navigate_menu": true,
   "number_sections": true,
   "sideBar": true,
   "threshold": 4,
   "toc_cell": false,
   "toc_section_display": "block",
   "toc_window_display": false,
   "widenNotebook": false
  }
 },
 "nbformat": 4,
 "nbformat_minor": 2
}
